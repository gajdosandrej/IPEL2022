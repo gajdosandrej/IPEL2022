{
 "cells": [
  {
   "cell_type": "markdown",
   "metadata": {},
   "source": [
    "**Autor:** Andrej Gajdoš  <br> \n",
    "_[Ústav matematických vied](https://www.upjs.sk/prirodovedecka-fakulta/ustav/umv/), [Prírodovedecká fakulta](https://www.upjs.sk/prirodovedecka-fakulta/), Univerzita Pavla Jozefa Šafárika v Košiciach,_ <br> \n",
    "email: [andrej.gajdos@upjs.sk](mailto:andrej.gajdos@upjs.sk)\n",
    "*** \n",
    "\n",
    "**_Tento materiál vznikol za podpory grantu VVGS-2022-2412._**\n",
    "\n",
    "***\n",
    "\n",
    "**<font size=6 color=gold> NUM: Téma 5 - Numerické riešenie nelineárnych rovníc: úlohy formou hlasovania </font>** "
   ]
  },
  {
   "cell_type": "markdown",
   "metadata": {},
   "source": [
    "--- \n",
    "\n",
    "**1. Rovnica $\\mathrm{tan}(x)=x$ má:** \n",
    "\n",
    "A) Nula koreňov;\n",
    "\n",
    "B) Jeden koreň;\n",
    "\n",
    "C) Dva korene; \n",
    "\n",
    "D) Päť koreňov; \n",
    "\n",
    "E) Nekonečne veľa koreňov. "
   ]
  },
  {
   "cell_type": "code",
   "execution_count": null,
   "metadata": {},
   "outputs": [],
   "source": []
  },
  {
   "cell_type": "markdown",
   "metadata": {},
   "source": [
    "--- \n",
    "\n",
    "**2. Polynóm stupňa $n$ má:** \n",
    "\n",
    "A) $n-1$ koreňov; \n",
    "\n",
    "B) $n$ koreňov; \n",
    "\n",
    "C) $n+1$ koreňov; \n",
    "\n",
    "D) $n+2$ koreňov."
   ]
  },
  {
   "cell_type": "code",
   "execution_count": null,
   "metadata": {},
   "outputs": [],
   "source": []
  },
  {
   "cell_type": "markdown",
   "metadata": {},
   "source": [
    "--- \n",
    "\n",
    "**3. Ak pre spojitú funkciu $f$ platí $f(a)f(b)<0$, potom rovnica $f(x)=0$ má v intervale $\\langle a,b \\rangle$:** \n",
    "\n",
    "A) Práve jeden koreň;\n",
    "\n",
    "B) Nedá sa určiť počet koreňov; \n",
    "\n",
    "C) Žiaden koreň; \n",
    "\n",
    "D) Aspoň jeden koreň. "
   ]
  },
  {
   "cell_type": "code",
   "execution_count": null,
   "metadata": {},
   "outputs": [],
   "source": []
  },
  {
   "cell_type": "markdown",
   "metadata": {},
   "source": [
    "--- \n",
    "\n",
    "**4. Rovnica $x^2=0$ má koreň v bode $x=0$. Metódu bisekcie nie je možné aplikovať na nájdenie tohto koreňa z dôvodu:** \n",
    "\n",
    "A) $x^2$ je polynóm; \n",
    "\n",
    "B) Koreň $x=0$ je dvojnásobný; \n",
    "\n",
    "C) $x^2$ je vždy nezáporné; \n",
    "\n",
    "D) Sklon paraboly v bode $x=0$ je nulový. "
   ]
  },
  {
   "cell_type": "code",
   "execution_count": null,
   "metadata": {},
   "outputs": [],
   "source": []
  },
  {
   "cell_type": "markdown",
   "metadata": {},
   "source": [
    "--- \n",
    "\n",
    "**5. Aj keď vzťahy pre výpočet odhadu koreňa môžu pri metóde regula-falsi a sečnicovej metóde vyzerať v podstate identicky, rozdiel je v tom, že:**\n",
    "\n",
    "A) Metóda regula falsi nemá garantovanú konvergenciu; \n",
    "\n",
    "B) Sečnicová metóda nemá garantovanú konvergenciu; \n",
    "\n",
    "C) Sečnicová metóda vyžaduje, aby dva počiatočné odhady mali rôzne znamienka; \n",
    "\n",
    "D) Metóda regula-falsi vyžaduje, aby dva počiatočné odhady mali rôzne znamienka. "
   ]
  },
  {
   "cell_type": "code",
   "execution_count": null,
   "metadata": {},
   "outputs": [],
   "source": []
  },
  {
   "cell_type": "markdown",
   "metadata": {},
   "source": [
    "--- \n",
    "\n",
    "**6. Koreň rovnice $(x-4)^2(x+2)$ bol nájdený metódou regula-falsi s počiatočnými odhadmi $x_L=-2.5$, $x_U=-1.0$ a s požadovanou relatívnou chybou nie väčšou ako $10^{-6}$ %. Metóda dokonvergovala ku koreňu $x_r=-1.9999997$ a odpovedajúca absolútna relatívna chyba bola odhadnutá na $8.76110979\\times10^{-5}$ %. Na základe uvedených informácií je počet platných číslic nájdeného koreňa, ktorým je možné dôverovať, aspoň:** \n",
    "\n",
    "A) 3; \n",
    "\n",
    "B) 4; \n",
    "\n",
    "C) 5; \n",
    "\n",
    "D) 6."
   ]
  },
  {
   "cell_type": "code",
   "execution_count": null,
   "metadata": {},
   "outputs": [],
   "source": []
  },
  {
   "cell_type": "markdown",
   "metadata": {},
   "source": [
    "--- \n",
    "\n",
    "**7. Metóda regula-falsi môže mať problém nájsť koreň rovnice $f(x)=x^2-7.4x+13.69=0$ lebo:** \n",
    "\n",
    "A) $f(x)$ je kvadratická polynomická funkcia; \n",
    "\n",
    "B) $f'(x)$ je priamka; \n",
    "\n",
    "C) Nie je možné nájsť dva počiatočné odhady s rôznymi znamienkami; - správne \n",
    "\n",
    "D) Rovnica má dva identické korene.  "
   ]
  },
  {
   "cell_type": "code",
   "execution_count": null,
   "metadata": {},
   "outputs": [],
   "source": []
  },
  {
   "cell_type": "markdown",
   "metadata": {},
   "source": [
    "--- \n",
    "\n",
    "**8. Formula pre nájdenie druhej odmocniny z čísla $R$ t.j. riešenie rovnice $x^2-R=0$ pomocou Newtonovej-Raphsonovej metódy má tvar:**\n",
    "\n",
    "A) $x_{i+1}=\\dfrac{x_i}{2}$; \n",
    "\n",
    "B) $x_{i+1}=\\dfrac{3x_i}{2}$; \n",
    "\n",
    "C) $x_{i+1}=\\dfrac{1}{2}\\left(x_i+\\dfrac{R}{x_i}\\right)$; \n",
    "\n",
    "D) $x_{i+1}=\\dfrac{1}{2}\\left(3x_i-\\dfrac{R}{x_i}\\right)$.  "
   ]
  },
  {
   "cell_type": "code",
   "execution_count": null,
   "metadata": {},
   "outputs": [],
   "source": []
  },
  {
   "cell_type": "markdown",
   "metadata": {},
   "source": [
    "--- \n",
    "\n",
    "**9. Pri hľadaní približnej hodnoty koreňa rovnice $\\sin(x)=0$ metódou sečníc by neboli vhodne zvolené počiatočné odhady:** \n",
    "\n",
    "A) $\\dfrac{\\pi}{4}$ a $\\dfrac{\\pi}{2}$;\n",
    "\n",
    "B) $\\dfrac{\\pi}{4}$ a $\\dfrac{3\\pi}{4}$; \n",
    "\n",
    "C) $-\\dfrac{\\pi}{2}$ a $\\dfrac{\\pi}{2}$;\n",
    "\n",
    "D) $\\dfrac{\\pi}{3}$ a $\\dfrac{\\pi}{2}$. "
   ]
  },
  {
   "cell_type": "code",
   "execution_count": null,
   "metadata": {},
   "outputs": [],
   "source": []
  },
  {
   "cell_type": "markdown",
   "metadata": {},
   "source": [
    "--- \n",
    "\n",
    "**10. Nech funkcia $f(x)$ má na intervale $\\langle a,b \\rangle$ koreň. Aby bolo zaručené, že tento koreň je jediný, stačí aby:**\n",
    "\n",
    "A) Funkcia $f(x)$ bola na tomto intervale konkávna; \n",
    "\n",
    "B) Funkcia $f(x)$ bola na tomto intervale konvexná; \n",
    "\n",
    "C) Funkcia $f(x)$ mala prvú deriváciu rovnú nule; \n",
    "\n",
    "D) Funkcia $f(x)$ bola na tomto intervale rýdzo monotónna. "
   ]
  },
  {
   "cell_type": "code",
   "execution_count": null,
   "metadata": {},
   "outputs": [],
   "source": []
  },
  {
   "cell_type": "markdown",
   "metadata": {},
   "source": [
    "--- \n",
    "\n",
    "**11. Je potrebné nájsť najväčší záporný koreň rovnice $f(x)=0$ pomocou Newtonovej metódy. Potom:** \n",
    "\n",
    "A) Volíme ľubovoľný štartovací bod kdekoľvek na osi $x$; \n",
    "\n",
    "B) Volíme jeden štartovací bod v blízkosti hľadaného koreňa; \n",
    "\n",
    "C) Volíme dva štartovacie body tak, aby hľadaný koreň ležal medzi nimi; \n",
    "\n",
    "D) Volíme dva štartovacie body tak, aby hľadaný koreň ležal medzi nimi a aby funkčné hodnoty v týchto bodoch mali opačné znamienka. "
   ]
  },
  {
   "cell_type": "code",
   "execution_count": null,
   "metadata": {},
   "outputs": [],
   "source": []
  },
  {
   "cell_type": "markdown",
   "metadata": {},
   "source": [
    "--- \n",
    "\n",
    "**12. Vyberte, o ktorú iteračnú metódu sa jedná: Graf funkcie $f(x)$ sa na intervale $\\langle a,b \\rangle$ nahradí priamkou, ktorá prechádza bodmi $[a,f(a)]$, $[b,f(b)]$, pričom priesečník $x_0$ tejto priamky s osou $x$ je približný odhad koreňa. Ďalej sa vyberie ten z intervalov $\\langle a,x_0 \\rangle $, $\\langle x_0,b \\rangle$, pre ktorý platí $f(a)f(x_0)<0$ alebo $f(x_0)f(b)<0$ a postup sa opakuje.** \n",
    "\n",
    "A) Metóda bisekcie; \n",
    "\n",
    "B) Metóda regula-falsi (metóda tetív);   \n",
    "\n",
    "C) Newtonova metóda (metóda dotyčníc); \n",
    "\n",
    "D) Metóda sečníc."
   ]
  },
  {
   "cell_type": "code",
   "execution_count": null,
   "metadata": {},
   "outputs": [],
   "source": []
  },
  {
   "cell_type": "markdown",
   "metadata": {},
   "source": [
    "--- \n",
    "\n",
    "**13. V prípade, že postupnosť čísel $x_0,x_1,\\ldots$ veľmi pomaly konverguje ku koreňu $x^*$ rovnice $f(x)=0$, tak:** \n",
    "\n",
    "A) Zastavovaciu podmienku zvolíme radšej nastavením maximálneho počtu iterácií;  \n",
    "\n",
    "B) Zastavovaciu podmienku volíme v tvare $|x_n-x_{n-1}|<\\varepsilon$; \n",
    "\n",
    "C) Zastavovaciu podmienku volíme v tvare $\\dfrac{|x_n-x_{n-1}|}{|x_n|}<\\varepsilon$."
   ]
  },
  {
   "cell_type": "code",
   "execution_count": null,
   "metadata": {},
   "outputs": [],
   "source": []
  },
  {
   "cell_type": "markdown",
   "metadata": {},
   "source": [
    "--- \n",
    "\n",
    "**14. Ak sú splnené podmienky pre konvergenciu metódy prostej iterácie $x_{n+1}=g(x_n)$ na intervale $\\langle a,b \\rangle$, tak počet iterácií nutných k dosiahnutiu predpísanej presnosti** \n",
    "\n",
    "A) je ovplyvnený znamienkom funkčnej hodnoty v počiatočnej aproximácii; \n",
    "\n",
    "B) je ovplyvnený voľbou počiatočnej aproximácie;   \n",
    "\n",
    "C) nie je ovplyvnený vlastnosťami funkcie $g(x)$; \n",
    "\n",
    "D) je možné ovplyvniť tým, že funkciu derivujeme a hľadáme korene rovnice $g'(x)=0$. "
   ]
  },
  {
   "cell_type": "code",
   "execution_count": null,
   "metadata": {},
   "outputs": [],
   "source": []
  },
  {
   "cell_type": "markdown",
   "metadata": {},
   "source": [
    "--- \n",
    "\n",
    "**15. Keď separujeme korene, tak:** \n",
    "\n",
    "A) Stanovíme ich presnú hodnotu pomocou niektorej z iteračných metód; \n",
    "\n",
    "B) Určíme intervaly, ktoré sú dostatočne malé a obsahujú jediný koreň;   \n",
    "\n",
    "C) Nájdeme postupnosť čísel $x_0,x_1,\\ldots$, ktorá konverguje ku koreňu; \n",
    "\n",
    "D) Z grafu približne odhadneme ich hodnotu. "
   ]
  },
  {
   "cell_type": "code",
   "execution_count": null,
   "metadata": {},
   "outputs": [],
   "source": []
  },
  {
   "cell_type": "markdown",
   "metadata": {},
   "source": [
    "--- \n",
    "\n",
    "**16. Ktorá z metód využíva pri hľadaní koreňov rovnice $f(x)=0$ ekvivalentný zápis $x=g(x)$ ?** \n",
    "\n",
    "A) Metóda bisekcie; \n",
    "\n",
    "B) Newtonova metóda; \n",
    "\n",
    "C) Metóda prostej iterácie;   \n",
    "\n",
    "D) Metóda sečníc."
   ]
  },
  {
   "cell_type": "code",
   "execution_count": null,
   "metadata": {},
   "outputs": [],
   "source": []
  },
  {
   "attachments": {
    "image.png": {
     "image/png": "[encoded data removed]"
    }
   },
   "cell_type": "markdown",
   "metadata": {},
   "source": [
    "--- \n",
    "\n",
    "**17. Predpokladajme, že dáta uvedené v tabuľke pochádzajú zo spojitej funkcie. Vyberte dvojicu bodov, medzi ktorými musí ležať aspoň jeden koreň takej funkcie:**\n",
    "\n",
    "![image.png](attachment:image.png) \n",
    "\n",
    "A) $1,0$ a $1,5$; \n",
    "\n",
    "B) $1,5$ a $2,0$; \n",
    "\n",
    "C) $2,7$ a $3,0$; \n",
    "\n",
    "D) $2,3$ a $3,0$. "
   ]
  },
  {
   "cell_type": "code",
   "execution_count": null,
   "metadata": {},
   "outputs": [],
   "source": []
  },
  {
   "cell_type": "markdown",
   "metadata": {},
   "source": [
    "--- \n",
    "\n",
    "**18. Ak pri hľadaní nulových bodov funkcie $f(x)$ na intervale $\\langle a,b \\rangle$ vynecháme predpoklad spojitosti funkcie $f$, tak:**\n",
    "\n",
    "A) Spojitosť prvej derivácie $f$ zaručuje, že je na intervale $\\langle a,b \\rangle$ nulový bod; \n",
    "\n",
    "B) V prípade, že funkcia $f$ je na intervale $\\langle a,b \\rangle$ monotónna a platí $f(a)f(b)<0$, bude mať funkcia $f$ na intervale $\\langle a,b \\rangle$ nulový bod; \n",
    "\n",
    "C) Podmienka $f(a)f(b)<0$ nezaručuje, že na intervale $\\langle a,b \\rangle$ má funkcia nulový bod; \n",
    "\n",
    "D) Podmienka $f(a)f(b)<0$ je postačujúca k tomu, aby funkcia $f$ mala na intervale $\\langle a,b \\rangle$ nulový bod. "
   ]
  },
  {
   "cell_type": "code",
   "execution_count": null,
   "metadata": {},
   "outputs": [],
   "source": []
  },
  {
   "cell_type": "markdown",
   "metadata": {},
   "source": [
    "--- \n",
    "\n",
    "**19. Vyberte iteračnú metódu pre hľadanie koreňov nelineárnych rovníc, ktorá potrebuje k odštartovaniu jeden bod v blízkosti koreňa:** \n",
    "\n",
    "A) Metóda tetiv; \n",
    "\n",
    "B) Newtonova metóda; \n",
    "\n",
    "C) Metóda sečníc; \n",
    "\n",
    "D) Metóda bisekcie. "
   ]
  },
  {
   "cell_type": "code",
   "execution_count": null,
   "metadata": {},
   "outputs": [],
   "source": []
  },
  {
   "cell_type": "markdown",
   "metadata": {},
   "source": [
    "--- \n",
    "\n",
    "**20. Ktoré metódy hľadania koreňov nelineárnych rovníc o jednej neznámej je možné rozšíriť na systémy $n$ nelineárnych rovníc s $n$ neznámymi?** \n",
    "\n",
    "A) Metóda prostej iterácie a Newtonova metóda; \n",
    "\n",
    "B) Metóda bisekcie a metóda tetív; \n",
    "\n",
    "C) Metóda prostej iterácie a metóda sečníc; \n",
    "\n",
    "D) Newtonova metóda a metóda regula-falsi. "
   ]
  },
  {
   "cell_type": "code",
   "execution_count": null,
   "metadata": {},
   "outputs": [],
   "source": []
  },
  {
   "cell_type": "markdown",
   "metadata": {},
   "source": [
    "--- \n",
    "\n",
    "**21. Ktoré podmienky zaručujú, že funkcia $f$ má vo vnútri intervalu $\\langle a,b \\rangle$ koreň?** \n",
    "\n",
    "A) Funkcia $f$ má v krajných bodoch intervalu hodnoty opačných znamienok; \n",
    "\n",
    "B) Funkcia $f$ je na tomto intervale spojitá; \n",
    "\n",
    "C) Funkcia $f$ je na tomto intervale spojitá a hodnoty v krajných bodoch intervalu majú opačné znamienka; \n",
    "\n",
    "D) Funkcia $f$ je na tomto intervale spojitá a hodnoty v krajných bodoch intervalu majú rovnaké znamienka."
   ]
  },
  {
   "cell_type": "code",
   "execution_count": null,
   "metadata": {},
   "outputs": [],
   "source": []
  },
  {
   "cell_type": "markdown",
   "metadata": {},
   "source": [
    "---\n",
    "\n",
    "**22. Aproximáciou koreňa rozumieme:**\n",
    "\n",
    "A) Nájdenie postupnosti čísel $x_0,x_1,\\ldots$, ktorá konverguje ku koreňu $x^*$, tzn. platí $\\lim\\limits_{n\\to\\infty}x_n=x^*$, $f\\left(x^*\\right)=0$; - správne \n",
    "\n",
    "B) Nájdenie intervalov takých, že v každom leží práve jeden koreň; \n",
    "\n",
    "C) Nájdenie čísel $x^*$, pre ktoré platí $f\\left(x^*\\right)=0$; \n",
    "\n",
    "D) Postup, ktorým nájdeme korene danej rovnice. "
   ]
  },
  {
   "cell_type": "code",
   "execution_count": null,
   "metadata": {},
   "outputs": [],
   "source": []
  },
  {
   "cell_type": "markdown",
   "metadata": {},
   "source": [
    "--- \n",
    "\n",
    "**23. Ktorá z metód na hľadanie koreňov nelineárnej rovnice $f(x)=0$ vyžaduje existenciu derivácie funkcie $f(x)$ ?** \n",
    "\n",
    "A) Prostá iteračná metóda; \n",
    "\n",
    "B) Metóda tetív; \n",
    "\n",
    "C) Metóda sečníc; \n",
    "\n",
    "D) Newtonova metóda.  "
   ]
  },
  {
   "cell_type": "code",
   "execution_count": null,
   "metadata": {},
   "outputs": [],
   "source": []
  },
  {
   "cell_type": "markdown",
   "metadata": {},
   "source": [
    "---\n",
    "\n",
    "**24. Kedy je zaručené, že Newtonova metóda bude na intervale $\\langle a,b \\rangle$ konvergovať?**\n",
    "\n",
    "A) Keď má funkcia $f$ spojitú druhú deriváciu a počiatočná aproximácia $x_0$ je zvolená dostatočné blízko koreňa; \n",
    "\n",
    "B) Pokiaľ sú splnené podmienky $f(a)f(b)<0$, $f'(x)\\neq0$, $f''(x)\\neq0$ a za počiatočnú aproximáciu $x_0$ zvolíme $a$ alebo $b$ tak, aby platilo $f(x_0)f''(x_0)>0$; \n",
    "\n",
    "C) Ak platí $f(a)f(b)>0$ a súčasne $f'(x_0)\\neq0$; \n",
    "\n",
    "D) Newtonova metóda je vždy konvergentná. "
   ]
  },
  {
   "cell_type": "code",
   "execution_count": null,
   "metadata": {},
   "outputs": [],
   "source": []
  },
  {
   "cell_type": "markdown",
   "metadata": {},
   "source": [
    "--- \n",
    "\n",
    "**25. Na akom princípe funguje metóda bisekcie?** \n",
    "\n",
    "A) Nájdeme stred $x_0$ intervalu $\\langle a,b \\rangle$, zistíme, či je v ňom funkčná hodnota rovná nule, pokiaľ áno, máme koreň. Inak pokračujeme ďalej rovnakým spôsobom s tým, že pracujeme s intervalom, pre ktorý platí $f(a)f(x_0)>0$ resp. $f(b)f(x_0)>0$; \n",
    "\n",
    "B) Nájdeme stred $x_0$ intervalu $\\langle a,b \\rangle$, zistíme, či je v ňom funkčná hodnota rovná nule, pokiaľ áno, máme koreň. Inak pokračujeme ďalej rovnakým spôsobom s tým, že pracujeme s intervalom, pre ktorý platí $f(a)f(x_0)<0$ resp. $f(b)f(x_0)<0$; \n",
    "\n",
    "C) Nájdeme stred $x_0$ intervalu $\\langle a,b \\rangle$, zistíme, či je v ňom funkčná hodnota rovná nule, pokiaľ áno, máme koreň. Inak pokračujeme ďalej rovnakým spôsobom s tým, že pracujeme s ľubovoľným z intervalov $\\langle f(a),f(x_0) \\rangle$ resp. $\\langle f(x_0),f(b) \\rangle$; \n",
    "\n",
    "D) Ani jedna z predchádzajúcich možností nezodpovedá metóde bisekcie. "
   ]
  },
  {
   "cell_type": "code",
   "execution_count": null,
   "metadata": {},
   "outputs": [],
   "source": []
  },
  {
   "cell_type": "markdown",
   "metadata": {},
   "source": [
    "--- \n",
    "\n",
    "**26. Ktorá z iteračných metód pre hľadanie koreňov na intervale $\\langle a,b \\rangle$ je založená na tzv. _Vete o pevnom bode_?** \n",
    "\n",
    "A) Prostá iteračná metóda;  \n",
    "\n",
    "B) Dotyčnicová metóda (Newtonova); \n",
    "\n",
    "C) Metóda sečníc; \n",
    "\n",
    "D) Metóda tetív (regula-falsi)."
   ]
  },
  {
   "cell_type": "code",
   "execution_count": null,
   "metadata": {},
   "outputs": [],
   "source": []
  }
 ],
 "metadata": {
  "kernelspec": {
   "display_name": "Python 3",
   "language": "python",
   "name": "python3"
  },
  "language_info": {
   "codemirror_mode": {
    "name": "ipython",
    "version": 3
   },
   "file_extension": ".py",
   "mimetype": "text/x-python",
   "name": "python",
   "nbconvert_exporter": "python",
   "pygments_lexer": "ipython3",
   "version": "3.7.10"
  },
  "varInspector": {
   "cols": {
    "lenName": 16,
    "lenType": 16,
    "lenVar": 40
   },
   "kernels_config": {
    "python": {
     "delete_cmd_postfix": "",
     "delete_cmd_prefix": "del ",
     "library": "var_list.py",
     "varRefreshCmd": "print(var_dic_list())"
    },
    "r": {
     "delete_cmd_postfix": ") ",
     "delete_cmd_prefix": "rm(",
     "library": "var_list.r",
     "varRefreshCmd": "cat(var_dic_list()) "
    }
   },
   "types_to_exclude": [
    "module",
    "function",
    "builtin_function_or_method",
    "instance",
    "_Feature"
   ],
   "window_display": false
  }
 },
 "nbformat": 4,
 "nbformat_minor": 2
}
