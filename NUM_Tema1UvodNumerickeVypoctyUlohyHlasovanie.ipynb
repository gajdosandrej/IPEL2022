{
 "cells": [
  {
   "cell_type": "markdown",
   "metadata": {},
   "source": [
    "**Autor:** Andrej Gajdoš  <br> \n",
    "_[Ústav matematických vied](https://www.upjs.sk/prirodovedecka-fakulta/ustav/umv/), [Prírodovedecká fakulta](https://www.upjs.sk/prirodovedecka-fakulta/), Univerzita Pavla Jozefa Šafárika v Košiciach,_ <br> \n",
    "email: [andrej.gajdos@upjs.sk](mailto:andrej.gajdos@upjs.sk)\n",
    "*** \n",
    "\n",
    "**_Tento materiál vznikol za podpory grantu VVGS-2022-2412._**\n",
    "\n",
    "***\n",
    "\n",
    "**<font size=6 color=gold> NUM: Téma 1 - Úvod do numerických výpočtov: úlohy formou hlasovania </font>** "
   ]
  },
  {
   "cell_type": "markdown",
   "metadata": {},
   "source": [
    "--- \n",
    "\n",
    "**1. Inžinier pracujúci pre ministerstvo obrany píše program, ktorý konvertuje nezáporné reálne čísla do celočíselného formátu. Aby sa predišlo problémom s pretečením, maximálne nezáporné celé číslo, ktoré môže byť vyjadrené v 5-bitovom celočíselnom slove, je:** \n",
    "\n",
    "A) 16; \n",
    "\n",
    "B) 31;\n",
    "\n",
    "C) 63; \n",
    "\n",
    "D) 64. "
   ]
  },
  {
   "cell_type": "code",
   "execution_count": null,
   "metadata": {},
   "outputs": [],
   "source": []
  },
  {
   "cell_type": "markdown",
   "metadata": {},
   "source": [
    "--- \n",
    "\n",
    "**2. Pre numericky riadený stroj musia byť celé čísla uložené v pamäti. Minimálny počet bitov potrebných na reprezentáciu všetkých celých čísel medzi $0$ a $1024$, je:**\n",
    "\n",
    "A) 8; \n",
    "\n",
    "B) 9;\n",
    "\n",
    "C) 10; \n",
    "\n",
    "D) 11."
   ]
  },
  {
   "cell_type": "code",
   "execution_count": null,
   "metadata": {},
   "outputs": [],
   "source": []
  },
  {
   "cell_type": "markdown",
   "metadata": {},
   "source": [
    "--- \n",
    "\n",
    "**3. Počítač rátajúci na 4 platné číslice s krátením, by vypočítal $66.666\\times33.333$ ako:**\n",
    "\n",
    "A) $2220$; \n",
    "\n",
    "B) $2221$;\n",
    "\n",
    "C) $2221.17778$; \n",
    "\n",
    "D) $2222$. "
   ]
  },
  {
   "cell_type": "code",
   "execution_count": null,
   "metadata": {},
   "outputs": [],
   "source": []
  },
  {
   "cell_type": "markdown",
   "metadata": {},
   "source": [
    "--- \n",
    "\n",
    "**4. Počítač rátajúci na 4 platné číslice so zaokrúhľovaním, by vypočítal $66.666\\times33.333$ ako:**\n",
    "\n",
    "A) $2220$; \n",
    "\n",
    "B) $2221$;\n",
    "\n",
    "C) $2221.17778$; \n",
    "\n",
    "D) $2222$. "
   ]
  },
  {
   "cell_type": "code",
   "execution_count": null,
   "metadata": {},
   "outputs": [],
   "source": []
  },
  {
   "cell_type": "markdown",
   "metadata": {},
   "source": [
    "--- \n",
    "\n",
    "**5. Nech $a=3.56\\pm0.05$, $b=3.25\\pm0.04$, pre $a+b$ platí:**  \n",
    "\n",
    "A) $6.81\\le a+b \\le 6.90$; \n",
    "\n",
    "B) $6.72\\le a+b \\le 6.90$;\n",
    "\n",
    "C) $6.81\\le a+b \\le 6.81$; \n",
    "\n",
    "D) $6.71\\le a+b \\le 6.91$. "
   ]
  },
  {
   "cell_type": "code",
   "execution_count": null,
   "metadata": {},
   "outputs": [],
   "source": []
  },
  {
   "cell_type": "markdown",
   "metadata": {},
   "source": [
    "--- \n",
    "\n",
    "**6. Číslo $x$ je správne zaokrúhlené čislo $y$ na hodnotu $3.18$. Potom $|x-y|\\le z$, kde $z$ je rovné:**\n",
    "\n",
    "A) $0.005$; \n",
    "\n",
    "B) $0.01$;\n",
    "\n",
    "C) $0.18$; \n",
    "\n",
    "D) $0.09999$. \n"
   ]
  },
  {
   "cell_type": "code",
   "execution_count": null,
   "metadata": {},
   "outputs": [],
   "source": []
  },
  {
   "cell_type": "markdown",
   "metadata": {},
   "source": [
    "--- \n",
    "\n",
    "**7. Drevený blok je odmeraný pravítkom na $60$ mm a merania sa považujú za dobré (presné) na $1/4$ milimetra. Koľko je platných číslic vo výsledku merania $60$ mm ?**\n",
    "\n",
    "A) $0$; \n",
    "\n",
    "B) $1$;\n",
    "\n",
    "C) $2$; \n",
    "\n",
    "D) $3$. "
   ]
  },
  {
   "cell_type": "code",
   "execution_count": null,
   "metadata": {},
   "outputs": [],
   "source": []
  },
  {
   "cell_type": "markdown",
   "metadata": {},
   "source": [
    "--- \n",
    "\n",
    "**8. Pri výpočte objemu kocky nominálnej veľkosti \"5 je neistota pri meraní každej strany $10\\%$. Neistota pri meraní objemu je:**\n",
    "\n",
    "A) $5.477\\%$; \n",
    "\n",
    "B) $10.00\\%$;\n",
    "\n",
    "C) $17.32\\%$; \n",
    "\n",
    "D) $30.00\\%$. "
   ]
  },
  {
   "cell_type": "code",
   "execution_count": null,
   "metadata": {},
   "outputs": [],
   "source": []
  },
  {
   "cell_type": "markdown",
   "metadata": {},
   "source": [
    "--- \n",
    "\n",
    "**9. Približná relatívna chyba na konci iterácie pre nájdenie koreňa rovnice je $0.004\\%$. Najmenší počet platných číslic, ktorým môžeme v riešení dôverovať, je:**\n",
    "\n",
    "A) $2$; \n",
    "\n",
    "B) $3$;\n",
    "\n",
    "C) $4$; \n",
    "\n",
    "D) $5$."
   ]
  },
  {
   "cell_type": "code",
   "execution_count": null,
   "metadata": {},
   "outputs": [],
   "source": []
  },
  {
   "cell_type": "markdown",
   "metadata": {},
   "source": [
    "--- \n",
    "\n",
    "**10. Koľko platných číslic má číslo $0.01850\\times10^3$ ?** \n",
    "\n",
    "A) $3$; \n",
    "\n",
    "B) $4$;\n",
    "\n",
    "C) $5$; \n",
    "\n",
    "D) $6$."
   ]
  },
  {
   "cell_type": "code",
   "execution_count": null,
   "metadata": {},
   "outputs": [],
   "source": []
  },
  {
   "cell_type": "markdown",
   "metadata": {},
   "source": [
    "--- \n",
    "\n",
    "**11. Počet platných cifier v čísle $219900$ je:** \n",
    "\n",
    "A) $4$; \n",
    "\n",
    "B) $5$;\n",
    "\n",
    "C) $6$; \n",
    "\n",
    "D) $4$ alebo $5$ alebo $6$."
   ]
  },
  {
   "cell_type": "code",
   "execution_count": null,
   "metadata": {},
   "outputs": [],
   "source": []
  },
  {
   "cell_type": "markdown",
   "metadata": {},
   "source": [
    "---\n",
    "\n",
    "**12. Hypotetický počítač ukladá reálne čísla vo formáte s pohyblivou rádovou čiarkou v 8-bitových postupnostiach. Prvý bit reprezentuje znamienko čísla, druhý bit vyjadruje znamienko exponentu, ďalšie dva bity popisujú veľkosť exponentu a zvyšné  štyri bity určujú veľkosť mantisy. Číslo $e\\cong2.718$ je v 8-bitovom formáte reprezentované v tvare:** \n",
    "\n",
    "A) $00010101$; \n",
    "\n",
    "B) $00011010$;\n",
    "\n",
    "C) $00010011$; \n",
    "\n",
    "D) $00101010$. "
   ]
  },
  {
   "cell_type": "code",
   "execution_count": null,
   "metadata": {},
   "outputs": [],
   "source": []
  },
  {
   "cell_type": "markdown",
   "metadata": {},
   "source": [
    "--- \n",
    "\n",
    "**13. Hypotetický počítač ukladá reálne čísla vo formáte s pohyblivou rádovou čiarkou v 8-bitových postupnostiach. Prvý bit reprezentuje znamienko čísla, druhý bit vyjadruje znamienko exponentu, ďalšie dva bity popisujú veľkosť exponentu a zvyšné  štyri bity určujú veľkosť mantisy. Číslo $(10100111)_2$ reprezentované v popísanom systéme zodpovedá v desiatkovej sústave  reálnemu číslu:** \n",
    "\n",
    "A) $-5.75$; \n",
    "\n",
    "B) $-2.875$;\n",
    "\n",
    "C) $-1.75$; \n",
    "\n",
    "D) $-0.359375$."
   ]
  },
  {
   "cell_type": "code",
   "execution_count": null,
   "metadata": {},
   "outputs": [],
   "source": []
  },
  {
   "cell_type": "markdown",
   "metadata": {},
   "source": [
    "--- \n",
    "\n",
    "**14. Hypotetický počítač ukladá reálne čísla vo formáte s pohyblivou rádovou čiarkou v 8-bitových postupnostiach. Prvý bit reprezentuje znamienko čísla, druhý bit vyjadruje znamienko exponentu, ďalšie dva bity popisujú veľkosť exponentu a zvyšné  štyri bity určujú veľkosť mantisy. Strojová presnosť je takmer:** \n",
    "\n",
    "A) $2^{-8}$; \n",
    "\n",
    "B) $2^{-4}$;\n",
    "\n",
    "C) $2^{-3}$; \n",
    "\n",
    "D) $2^{-2}$."
   ]
  },
  {
   "cell_type": "code",
   "execution_count": null,
   "metadata": {},
   "outputs": [],
   "source": []
  },
  {
   "cell_type": "markdown",
   "metadata": {},
   "source": [
    "---\n",
    "\n",
    "**15. Dokončite pravdivé tvrdenie: Korektná úloha ...** \n",
    "\n",
    "A) je jednoznačne riešiteľná;  \n",
    "\n",
    "B) je taká úloha, pri ktorej pre každú množinu parametrov tejto úlohy existuje práve jedno riešenie takej úlohy;  \n",
    "\n",
    "C) je dobre podmienená; \n",
    "\n",
    "D) má malé číslo podmienenosti; \n",
    "\n",
    "E) je taká úloha, ktorej riešenie nemusí byť jednoznačné; \n",
    "\n",
    "F) je taká úloha, ktorej riešenie spojite závisí na vstupných dátach; \n",
    "\n",
    "G) je numericky stabilná. "
   ]
  },
  {
   "cell_type": "code",
   "execution_count": null,
   "metadata": {},
   "outputs": [],
   "source": []
  },
  {
   "cell_type": "markdown",
   "metadata": {},
   "source": [
    "---\n",
    "\n",
    "**16. Dokončite pravdivé tvrdenie: Dobre podmienená úloha ...** \n",
    "\n",
    "A) je ľubovoľná korektná úloha; \n",
    "\n",
    "B) je taká úloha, u ktorej malá zmena vstupných dát vyvolá malú zmenu riešenia; \n",
    "\n",
    "C) je numericky stabilná; \n",
    "\n",
    "D) je úloha, ktorej riešenie je jednoznačné;  \n",
    "\n",
    "E) má malé číslo podmienenosti. "
   ]
  },
  {
   "cell_type": "code",
   "execution_count": null,
   "metadata": {},
   "outputs": [],
   "source": []
  },
  {
   "cell_type": "markdown",
   "metadata": {},
   "source": [
    "---\n",
    "\n",
    "**17. Dokončite pravdivé tvrdenie: Numericky stabilná numerická metóda ...** \n",
    "\n",
    "A) je metóda, ktorá rieši korektnú úlohu; \n",
    "\n",
    "B) je metóda, pri ktorej malé odchýlky v priebehu výpočtu nevedú k veľkým zmenám v riešení; \n",
    "\n",
    "C) má vždy malé číslo podmienenosti; \n",
    "\n",
    "D) je metóda, ktorá rieši dobre podmienenú úlohu; \n",
    "\n",
    "E) je metóda, pri ktorej zanedbávame zaokrúhľovacie chyby. "
   ]
  },
  {
   "cell_type": "markdown",
   "metadata": {},
   "source": [
    "---\n",
    "\n",
    "**18. Najkritickejšia operácia z hľadiska šírenia chýb je:** \n",
    "\n",
    "A) súčet dvoch takmer zhodných veličín; \n",
    "\n",
    "B) rozdiel dvoch takmer zhodných veličín; \n",
    "\n",
    "C) súčin dvoch takmer zhodných veličín; \n",
    "\n",
    "D) podiel dvoch takmer zhodných veličín. "
   ]
  },
  {
   "cell_type": "markdown",
   "metadata": {},
   "source": [
    "--- \n",
    "\n",
    "**19. $(25)_{10}=(?)_2$:**\n",
    "\n",
    "A) $100110$; \n",
    "\n",
    "B) $10011$; \n",
    "\n",
    "C) $11001$; \n",
    "\n",
    "D) $110010$."
   ]
  },
  {
   "cell_type": "markdown",
   "metadata": {},
   "source": [
    "--- \n",
    "\n",
    "**20. $(1101)_2=(?)_{10}$:** \n",
    "\n",
    "A) $3$; \n",
    "\n",
    "B) $13$; \n",
    "\n",
    "C) $15$; \n",
    "\n",
    "D) $26$."
   ]
  },
  {
   "cell_type": "markdown",
   "metadata": {},
   "source": [
    "--- \n",
    "\n",
    "**21. $(25.375)_{10}=(?.?)_2$:** \n",
    "\n",
    "A) $100110.011$; \n",
    "\n",
    "B) $11001.011$; \n",
    "\n",
    "C) $10011.0011$; \n",
    "\n",
    "D) $10011.110$."
   ]
  },
  {
   "cell_type": "code",
   "execution_count": null,
   "metadata": {},
   "outputs": [],
   "source": []
  }
 ],
 "metadata": {
  "kernelspec": {
   "display_name": "Python 3",
   "language": "python",
   "name": "python3"
  },
  "language_info": {
   "codemirror_mode": {
    "name": "ipython",
    "version": 3
   },
   "file_extension": ".py",
   "mimetype": "text/x-python",
   "name": "python",
   "nbconvert_exporter": "python",
   "pygments_lexer": "ipython3",
   "version": "3.7.10"
  },
  "varInspector": {
   "cols": {
    "lenName": 16,
    "lenType": 16,
    "lenVar": 40
   },
   "kernels_config": {
    "python": {
     "delete_cmd_postfix": "",
     "delete_cmd_prefix": "del ",
     "library": "var_list.py",
     "varRefreshCmd": "print(var_dic_list())"
    },
    "r": {
     "delete_cmd_postfix": ") ",
     "delete_cmd_prefix": "rm(",
     "library": "var_list.r",
     "varRefreshCmd": "cat(var_dic_list()) "
    }
   },
   "types_to_exclude": [
    "module",
    "function",
    "builtin_function_or_method",
    "instance",
    "_Feature"
   ],
   "window_display": false
  }
 },
 "nbformat": 4,
 "nbformat_minor": 2
}
